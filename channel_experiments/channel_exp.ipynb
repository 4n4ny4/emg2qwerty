{
  "cells": [
    {
      "cell_type": "code",
      "execution_count": 12,
      "metadata": {
        "id": "n84M6KLmkp2i"
      },
      "outputs": [],
      "source": [
        "def update_in_features(yaml_file, new_in_features, new_channel_num):\n",
        "    updated_content = []\n",
        "    with open(yaml_file, 'r') as file:\n",
        "        for line in file:\n",
        "            if 'in_features:' in line:\n",
        "                updated_content.append(f'  in_features: {new_in_features}  # freq * channels = (n_fft // 2 + 1) * 16\\n')\n",
        "            elif 'ELECTRODE_CHANNELS:' in line:\n",
        "                updated_content.append(f'  ELECTRODE_CHANNELS: {new_channel_num}\\n')\n",
        "            else:\n",
        "                updated_content.append(line)\n",
        "    with open(yaml_file, 'w') as file:\n",
        "        file.writelines(updated_content)\n",
        "\n",
        "def update_channels(yaml_file, new_channels):\n",
        "    updated_content = []\n",
        "    with open(yaml_file, 'r') as file:\n",
        "        for line in file:\n",
        "            if 'channels:' in line:\n",
        "                updated_content.append(f'  channels: {new_channels}\\n')\n",
        "            else:\n",
        "                updated_content.append(line)\n",
        "    with open(yaml_file, 'w') as file:\n",
        "        file.writelines(updated_content)\n",
        "    \n",
        "yaml_file = \"config/model/tds_conv_ctc.yaml\"\n",
        "channels = [0,1,2,3,4,5,6,7,8,9,10,11,12,13,14,15]\n",
        "new_in_features = (64//2 + 1) * len(channels)\n",
        "update_in_features(yaml_file, new_in_features, len(channels))\n",
        "\n",
        "yaml_file = \"config/transforms/log_spectrogram.yaml\"\n",
        "channels = [0,1,2,3,4,5,6,7,8,9,10,11,12,13,14,15]\n",
        "update_channels(yaml_file, channels)"
      ]
    },
    {
      "cell_type": "code",
      "execution_count": 13,
      "metadata": {},
      "outputs": [],
      "source": [
        "channelList = [channels]\n",
        "for i in [2, 3, 4, 6, 12]:\n",
        "  channelList.append(channels[::i])\n",
        "channelList.append(channels[0:1])\n",
        "channelList.append(channels[:8])\n",
        "channelList.append(channels[8:])"
      ]
    },
    {
      "cell_type": "code",
      "execution_count": 14,
      "metadata": {},
      "outputs": [
        {
          "data": {
            "text/plain": [
              "[[0, 1, 2, 3, 4, 5, 6, 7, 8, 9, 10, 11, 12, 13, 14, 15],\n",
              " [0, 2, 4, 6, 8, 10, 12, 14],\n",
              " [0, 3, 6, 9, 12, 15],\n",
              " [0, 4, 8, 12],\n",
              " [0, 6, 12],\n",
              " [0, 12],\n",
              " [0],\n",
              " [0, 1, 2, 3, 4, 5, 6, 7],\n",
              " [8, 9, 10, 11, 12, 13, 14, 15]]"
            ]
          },
          "execution_count": 14,
          "metadata": {},
          "output_type": "execute_result"
        }
      ],
      "source": [
        "channelList"
      ]
    },
    {
      "cell_type": "code",
      "execution_count": 17,
      "metadata": {},
      "outputs": [
        {
          "name": "stdout",
          "output_type": "stream",
          "text": [
            "[2025-03-07 18:07:28,098][HYDRA] Submitit 'local' sweep output dir : logs/2025-03-07/18-07-28\n",
            "[2025-03-07 18:07:28,099][HYDRA] \t#0 : user=single_user trainer.accelerator=gpu trainer.devices=1\n",
            "[2025-03-07 18:16:35,967][HYDRA] Submitit 'local' sweep output dir : logs/2025-03-07/18-16-35\n",
            "[2025-03-07 18:16:35,968][HYDRA] \t#0 : user=single_user trainer.accelerator=gpu trainer.devices=1\n",
            "[2025-03-07 18:24:40,513][HYDRA] Submitit 'local' sweep output dir : logs/2025-03-07/18-24-40\n",
            "[2025-03-07 18:24:40,514][HYDRA] \t#0 : user=single_user trainer.accelerator=gpu trainer.devices=1\n",
            "[2025-03-07 18:32:24,893][HYDRA] Submitit 'local' sweep output dir : logs/2025-03-07/18-32-24\n",
            "[2025-03-07 18:32:24,894][HYDRA] \t#0 : user=single_user trainer.accelerator=gpu trainer.devices=1\n",
            "[2025-03-07 18:39:54,850][HYDRA] Submitit 'local' sweep output dir : logs/2025-03-07/18-39-54\n",
            "[2025-03-07 18:39:54,851][HYDRA] \t#0 : user=single_user trainer.accelerator=gpu trainer.devices=1\n",
            "[2025-03-07 18:47:16,457][HYDRA] Submitit 'local' sweep output dir : logs/2025-03-07/18-47-16\n",
            "[2025-03-07 18:47:16,457][HYDRA] \t#0 : user=single_user trainer.accelerator=gpu trainer.devices=1\n",
            "[2025-03-07 18:54:32,905][HYDRA] Submitit 'local' sweep output dir : logs/2025-03-07/18-54-32\n",
            "[2025-03-07 18:54:32,906][HYDRA] \t#0 : user=single_user trainer.accelerator=gpu trainer.devices=1\n",
            "[2025-03-07 19:01:45,045][HYDRA] Submitit 'local' sweep output dir : logs/2025-03-07/19-01-44\n",
            "[2025-03-07 19:01:45,046][HYDRA] \t#0 : user=single_user trainer.accelerator=gpu trainer.devices=1\n",
            "[2025-03-07 19:09:49,318][HYDRA] Submitit 'local' sweep output dir : logs/2025-03-07/19-09-49\n",
            "[2025-03-07 19:09:49,318][HYDRA] \t#0 : user=single_user trainer.accelerator=gpu trainer.devices=1\n"
          ]
        }
      ],
      "source": [
        "for i in range(len(channelList)):\n",
        "  new_channels = channelList[i]\n",
        "  update_channels(\"config/transforms/log_spectrogram.yaml\", new_channels)\n",
        "  new_in_features = (64//2 + 1) * len(new_channels)\n",
        "  update_in_features(\"config/model/tds_conv_ctc.yaml\", new_in_features, len(new_channels))\n",
        "  !python -m emg2qwerty.train \\\n",
        "    user=\"single_user\" \\\n",
        "    trainer.accelerator=gpu trainer.devices=1 \\\n",
        "    --multirun"
      ]
    },
    {
      "cell_type": "code",
      "execution_count": 34,
      "metadata": {},
      "outputs": [],
      "source": [
        "import os\n",
        "import ast \n",
        "import shutil\n",
        "\n",
        "main_dir = 'logs/2025-03-07'\n",
        "\n",
        "subdirs = sorted(os.listdir(main_dir), reverse=False)\n",
        "paths = []\n",
        "for subdir in subdirs:\n",
        "    subdir_path = os.path.join(main_dir, subdir)\n",
        "    if os.path.isdir(subdir_path):\n",
        "        job0_dir = None\n",
        "        for folder in os.listdir(subdir_path):\n",
        "            if folder.startswith('job0'):\n",
        "                job0_dir = os.path.join(subdir_path, folder)\n",
        "                break\n",
        "        \n",
        "        if job0_dir and os.path.isdir(job0_dir):\n",
        "            checkpoints_dir = os.path.join(job0_dir, 'checkpoints')\n",
        "            if os.path.isdir(checkpoints_dir):\n",
        "                for file in os.listdir(checkpoints_dir):\n",
        "                    if file.startswith('epoch'):\n",
        "                        epoch_file_path = os.path.join(checkpoints_dir, file)\n",
        "                        paths.append(str(epoch_file_path))\n",
        "                        break\n",
        "\n",
        "\n",
        "for i in range(len(channelList)):\n",
        "    src = paths[i]\n",
        "    dest_dir = 'channel_logs'\n",
        "    os.makedirs(dest_dir, exist_ok=True)\n",
        "    dest_file = os.path.join(dest_dir, f'{i+1}.ckpt')\n",
        "    shutil.copy(src, dest_file)\n",
        "\n",
        "def loss_and_CER(result):\n",
        "  output = result.stdout\n",
        "  start_index = output.find(\"'test_metrics': [\")\n",
        "  test_metrics = output[start_index:]\n",
        "  end_index = test_metrics.find(\"'best_checkpoint': ''}\")\n",
        "  test_metrics = test_metrics[:end_index-3]\n",
        "\n",
        "  test_metrics = test_metrics.replace(\"'\", \"\\\"\")\n",
        "  test_metrics = \"{\" + test_metrics + \"}\"\n",
        "  try:\n",
        "      test_metrics_dict = ast.literal_eval(test_metrics)\n",
        "  except SyntaxError as e:\n",
        "      print(f\"Error parsing the string: {e}\")\n",
        "  return test_metrics_dict['test_metrics'][0]['test/loss'], test_metrics_dict['test_metrics'][0]['test/CER']"
      ]
    },
    {
      "cell_type": "code",
      "execution_count": 35,
      "metadata": {},
      "outputs": [],
      "source": [
        "import subprocess\n",
        "\n",
        "loss_list = []\n",
        "CER_list = []\n",
        "for i in range(len(channelList)):\n",
        "    new_channels = channelList[i]\n",
        "    update_channels(\"config/transforms/log_spectrogram.yaml\", new_channels)\n",
        "    new_in_features = (64//2 + 1) * len(new_channels)\n",
        "    update_in_features(\"config/model/tds_conv_ctc.yaml\", new_in_features, len(new_channels))\n",
        "    result = subprocess.run(\n",
        "        f\"python -m emg2qwerty.train user='single_user' checkpoint='channel_logs/{i+1}.ckpt' train=False trainer.accelerator=gpu decoder=ctc_greedy hydra.launcher.mem_gb=64\",\n",
        "        shell=True,\n",
        "        capture_output=True,\n",
        "        text=True\n",
        "    )\n",
        "    loss, CER = loss_and_CER(result)\n",
        "    loss_list.append(loss)\n",
        "    CER_list.append(CER)"
      ]
    },
    {
      "cell_type": "code",
      "execution_count": 36,
      "metadata": {},
      "outputs": [
        {
          "data": {
            "image/png": "[encoded data removed]",
            "text/plain": [
              "<Figure size 1000x500 with 1 Axes>"
            ]
          },
          "metadata": {},
          "output_type": "display_data"
        },
        {
          "data": {
            "image/png": "[encoded data removed]",
            "text/plain": [
              "<Figure size 1000x500 with 1 Axes>"
            ]
          },
          "metadata": {},
          "output_type": "display_data"
        }
      ],
      "source": [
        "import matplotlib.pyplot as plt\n",
        "\n",
        "custom_xticklabels = [\"16\", \"8\", \"6\", \"4\", \"3\", \"2\", \"1\", \"first8\", \"last8\"]\n",
        "\n",
        "durationList = range(len(channelList))\n",
        "\n",
        "# Column plot for Loss\n",
        "plt.figure(figsize=(10, 5))\n",
        "plt.bar(durationList, loss_list, color='b', label='Loss')  # Using bar instead of plot\n",
        "plt.title('Loss Versus Used Channels')\n",
        "plt.xlabel('Used Channels')\n",
        "plt.ylabel('Loss')\n",
        "plt.xticks(durationList, custom_xticklabels) \n",
        "plt.tight_layout()\n",
        "\n",
        "plt.savefig('loss_vs_channels.png', format='png') \n",
        "plt.savefig('loss_vs_channels.svg', format='svg') \n",
        "plt.show()\n",
        "\n",
        "# Column plot for CER\n",
        "plt.figure(figsize=(10, 5))\n",
        "plt.bar(durationList, CER_list, color='r', label='CER')\n",
        "plt.title('CER Versus Used Channels')\n",
        "plt.xlabel('Used Channels')\n",
        "plt.ylabel('CER')\n",
        "plt.xticks(durationList, custom_xticklabels) \n",
        "plt.tight_layout()\n",
        "\n",
        "plt.savefig('cer_vs_channels.png', format='png') \n",
        "plt.savefig('cer_vs_channels.svg', format='svg')  \n",
        "plt.show()\n"
      ]
    }
  ],
  "metadata": {
    "accelerator": "GPU",
    "colab": {
      "gpuType": "T4",
      "provenance": []
    },
    "kernelspec": {
      "display_name": "emg2",
      "language": "python",
      "name": "python3"
    },
    "language_info": {
      "codemirror_mode": {
        "name": "ipython",
        "version": 3
      },
      "file_extension": ".py",
      "mimetype": "text/x-python",
      "name": "python",
      "nbconvert_exporter": "python",
      "pygments_lexer": "ipython3",
      "version": "3.10.16"
    }
  },
  "nbformat": 4,
  "nbformat_minor": 0
}
